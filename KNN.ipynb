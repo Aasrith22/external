{
  "nbformat": 4,
  "nbformat_minor": 0,
  "metadata": {
    "colab": {
      "provenance": [],
      "authorship_tag": "ABX9TyN8vqpODf8+5wzsdIctfUfZ",
      "include_colab_link": true
    },
    "kernelspec": {
      "name": "python3",
      "display_name": "Python 3"
    },
    "language_info": {
      "name": "python"
    }
  },
  "cells": [
    {
      "cell_type": "markdown",
      "metadata": {
        "id": "view-in-github",
        "colab_type": "text"
      },
      "source": [
        "<a href=\"https://colab.research.google.com/github/Aasrith22/external/blob/main/KNN.ipynb\" target=\"_parent\"><img src=\"https://colab.research.google.com/assets/colab-badge.svg\" alt=\"Open In Colab\"/></a>"
      ]
    },
    {
      "cell_type": "code",
      "execution_count": null,
      "metadata": {
        "id": "ZYvqt5uEWgnv"
      },
      "outputs": [],
      "source": [
        "from sklearn.neighbors import KNeighborsClassifier\n",
        "from sklearn.model_selection import train_test_split\n",
        "from sklearn.datasets import load_iris\n",
        "irisData =load_iris()\n",
        "X =irisData.data\n",
        "y =irisData.target\n",
        "X_train, X_test, y_train, y_test =train_test_split(X, y, test_size =0.2, random_state=42)\n",
        "knn =KNeighborsClassifier(n_neighbors=7)\n",
        "knn.fit(X_train, y_train)\n",
        "print(knn.predict(X_test))\n",
        "print(knn.score(X_test, y_test))\n",
        "\n",
        "import numpy as np\n",
        "from sklearn.model_selection import train_test_split\n",
        "from sklearn.neighbors import KNeighborsClassifier\n",
        "X_train, X_test, y_train, y_test = train_test_split(X, y, test_size=0.2, random_state=42)\n",
        "neighbors = np.arange(1, 9)\n",
        "train_accuracy = np.empty(len(neighbors))\n",
        "test_accuracy = np.empty(len(neighbors))\n",
        "for i, k in enumerate(neighbors):\n",
        " knn = KNeighborsClassifier(n_neighbors=k)\n",
        " knn.fit(X_train, y_train)\n",
        " train_accuracy[i] = knn.score(X_train, y_train)\n",
        " test_accuracy[i] = knn.score(X_test, y_test)\n",
        "plt.plot(neighbors, test_accuracy, label ='Testing dataset Accuracy')\n",
        "plt.plot(neighbors, train_accuracy, label ='Training dataset Accuracy')\n",
        "plt.legend()\n",
        "plt.xlabel('n_neighbors')\n",
        "plt.ylabel('Accuracy')\n",
        "plt.show()"
      ]
    }
  ]
}