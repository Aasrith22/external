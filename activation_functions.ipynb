{
  "nbformat": 4,
  "nbformat_minor": 0,
  "metadata": {
    "colab": {
      "provenance": [],
      "authorship_tag": "ABX9TyMtbCdxzy9thXDA/jNmorNg",
      "include_colab_link": true
    },
    "kernelspec": {
      "name": "python3",
      "display_name": "Python 3"
    },
    "language_info": {
      "name": "python"
    }
  },
  "cells": [
    {
      "cell_type": "markdown",
      "metadata": {
        "id": "view-in-github",
        "colab_type": "text"
      },
      "source": [
        "<a href=\"https://colab.research.google.com/github/Aasrith22/external/blob/main/activation_functions.ipynb\" target=\"_parent\"><img src=\"https://colab.research.google.com/assets/colab-badge.svg\" alt=\"Open In Colab\"/></a>"
      ]
    },
    {
      "cell_type": "code",
      "execution_count": null,
      "metadata": {
        "colab": {
          "base_uri": "https://localhost:8080/"
        },
        "id": "cuCKf3AHstad",
        "outputId": "83a63fd1-91da-4148-d8cc-8516c4055be9"
      },
      "outputs": [
        {
          "output_type": "stream",
          "name": "stdout",
          "text": [
            "Input data:\n",
            "[[2 4 5]\n",
            " [5 6 3]\n",
            " [7 2 8]\n",
            " [1 9 2]]\n",
            "\n",
            "Normalized data:\n",
            "[[-0.73379939 -0.48336824  0.21821789]\n",
            " [ 0.52414242  0.29002095 -0.65465367]\n",
            " [ 1.36277029 -1.25675744  1.52752523]\n",
            " [-1.15311332  1.45010473 -1.09108945]]\n",
            "\n",
            "Sigmoid activation output:\n",
            "[[0.32436153 0.38145708 0.55433901]\n",
            " [0.62811589 0.57200126 0.34194161]\n",
            " [0.79620957 0.22153259 0.82164394]\n",
            " [0.23992088 0.81001455 0.25141318]]\n",
            "\n",
            "ReLU activation output:\n",
            "[[0.         0.         0.21821789]\n",
            " [0.52414242 0.29002095 0.        ]\n",
            " [1.36277029 0.         1.52752523]\n",
            " [0.         1.45010473 0.        ]]\n",
            "\n",
            "Tanh activation output:\n",
            "[[-0.62538427 -0.44893707  0.21481884]\n",
            " [ 0.48089081  0.28215409 -0.57479445]\n",
            " [ 0.87703404 -0.8501677   0.91000014]\n",
            " [-0.81878283  0.89571358 -0.79727543]]\n"
          ]
        }
      ],
      "source": [
        "import numpy as np\n",
        "def n(data):\n",
        "    m = np.mean(data, axis=0)\n",
        "    s = np.std(data, axis=0)\n",
        "    return (data - m) / s\n",
        "def s(x):\n",
        "    return 1 / (1 + np.exp(-x))\n",
        "def r(x):\n",
        "    return np.maximum(0, x)\n",
        "def t(x):\n",
        "    return np.tanh(x)\n",
        "d = np.array([\n",
        "    [2, 4, 5],\n",
        "    [5, 6, 3],\n",
        "    [7, 2, 8],\n",
        "    [1, 9, 2]\n",
        "])\n",
        "nd = n(d)\n",
        "so = s(nd)\n",
        "ro = r(nd)\n",
        "to = t(nd)\n",
        "print(\"Input data:\")\n",
        "print(d)\n",
        "print(\"\\nNormalized data:\")\n",
        "print(nd)\n",
        "print(\"\\nSigmoid activation output:\")\n",
        "print(so)\n",
        "print(\"\\nReLU activation output:\")\n",
        "print(ro)\n",
        "print(\"\\nTanh activation output:\")\n",
        "print(to)\n"
      ]
    }
  ]
}