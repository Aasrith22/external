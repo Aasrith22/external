{
  "nbformat": 4,
  "nbformat_minor": 0,
  "metadata": {
    "colab": {
      "provenance": [],
      "authorship_tag": "ABX9TyNSy7yBWV5ttlv/12hVhw9W",
      "include_colab_link": true
    },
    "kernelspec": {
      "name": "python3",
      "display_name": "Python 3"
    },
    "language_info": {
      "name": "python"
    }
  },
  "cells": [
    {
      "cell_type": "markdown",
      "metadata": {
        "id": "view-in-github",
        "colab_type": "text"
      },
      "source": [
        "<a href=\"https://colab.research.google.com/github/Aasrith22/external/blob/main/backward_propagation.ipynb\" target=\"_parent\"><img src=\"https://colab.research.google.com/assets/colab-badge.svg\" alt=\"Open In Colab\"/></a>"
      ]
    },
    {
      "cell_type": "code",
      "execution_count": null,
      "metadata": {
        "id": "NjjhFBrVtnYV",
        "outputId": "feb93ac6-e467-47c6-baf2-36c352ec9373",
        "colab": {
          "base_uri": "https://localhost:8080/"
        }
      },
      "outputs": [
        {
          "output_type": "stream",
          "name": "stdout",
          "text": [
            "Epoch: 0, Loss: 0.7982647526772282\n",
            "Epoch: 1000, Loss: 0.17726649162189637\n",
            "Epoch: 2000, Loss: 0.07193628120648372\n",
            "Epoch: 3000, Loss: 0.05029770620120888\n",
            "Epoch: 4000, Loss: 0.04038581863876496\n",
            "Epoch: 5000, Loss: 0.03450335290992945\n",
            "Epoch: 6000, Loss: 0.030528956802597235\n",
            "Epoch: 7000, Loss: 0.0276255284200288\n",
            "Epoch: 8000, Loss: 0.025390684320402174\n",
            "Epoch: 9000, Loss: 0.02360488020011186\n",
            "\n",
            "Predicted outputs after training:\n",
            "[[0.01703322]\n",
            " [0.97721526]\n",
            " [0.97711891]\n",
            " [0.02485943]]\n"
          ]
        }
      ],
      "source": [
        "import numpy as np\n",
        "def s(x):\n",
        "    return 1 / (1 + np.exp(-x))\n",
        "def sd(x):\n",
        "    return x * (1 - x)\n",
        "def t(x):\n",
        "    return np.tanh(x)\n",
        "def td(x):\n",
        "    return 1 - np.tanh(x)**2\n",
        "isize = 2\n",
        "hsize = 4\n",
        "osize = 1\n",
        "lr = 0.1\n",
        "ne = 10000\n",
        "np.random.seed(42)\n",
        "wih = np.random.rand(isize, hsize)\n",
        "bh = np.zeros((1, hsize))\n",
        "who = np.random.rand(hsize, osize)\n",
        "bo = np.zeros((1, osize))\n",
        "X = np.array([[0, 0], [0, 1], [1, 0], [1, 1]])\n",
        "y = np.array([[0], [1], [1], [0]])\n",
        "for e in range(ne):\n",
        "    hi = np.dot(X, wih) + bh\n",
        "    ho = t(hi)\n",
        "    oi = np.dot(ho, who) + bo\n",
        "    po = s(oi)\n",
        "    loss = -np.mean(y * np.log(po) + (1 - y) * np.log(1 - po))\n",
        "    oe = y - po\n",
        "    od = oe * sd(po)\n",
        "    he = od.dot(who.T)\n",
        "    hd = he * td(ho)\n",
        "    who += ho.T.dot(od) * lr\n",
        "    bo += np.sum(od, axis=0, keepdims=True) * lr\n",
        "    wih += X.T.dot(hd) * lr\n",
        "    bh += np.sum(hd, axis=0, keepdims=True) * lr\n",
        "    if e % 1000 == 0:\n",
        "        print(f\"Epoch: {e}, Loss: {loss}\")\n",
        "test_hi = np.dot(X, wih) + bh\n",
        "test_ho = t(test_hi)\n",
        "test_oi = np.dot(test_ho, who) + bo\n",
        "test_po = s(test_oi)\n",
        "print(\"\\nPredicted outputs after training:\")\n",
        "print(test_po)\n"
      ]
    }
  ]
}