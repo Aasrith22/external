{
  "nbformat": 4,
  "nbformat_minor": 0,
  "metadata": {
    "colab": {
      "provenance": [],
      "authorship_tag": "ABX9TyOXQvjJuXgmuWqEY6UOiAij",
      "include_colab_link": true
    },
    "kernelspec": {
      "name": "python3",
      "display_name": "Python 3"
    },
    "language_info": {
      "name": "python"
    }
  },
  "cells": [
    {
      "cell_type": "markdown",
      "metadata": {
        "id": "view-in-github",
        "colab_type": "text"
      },
      "source": [
        "<a href=\"https://colab.research.google.com/github/Aasrith22/external/blob/main/dmml_week_7.ipynb\" target=\"_parent\"><img src=\"https://colab.research.google.com/assets/colab-badge.svg\" alt=\"Open In Colab\"/></a>"
      ]
    },
    {
      "cell_type": "code",
      "execution_count": null,
      "metadata": {
        "id": "JzmrZNkoUuOw"
      },
      "outputs": [],
      "source": [
        "import pandas as pd\n",
        "import numpy as np\n",
        "import matplotlib.pyplot as plt\n",
        "%matplotlib inline\n",
        "dataset = pd.read_csv('Data.csv')\n",
        "dataset.head()\n",
        "dataset.describe()\n",
        "\n",
        "from sklearn.linear_model import LinearRegression\n",
        "regressor = LinearRegression()\n",
        "regressor.fit(X_train, y_train)\n",
        "coeff_df = pd.DataFrame(regressor.coef_, X.columns, columns=['Coefficient'])\n",
        "coeff_df\n",
        "\n",
        "y_pred = regressor.predict(X_test)\n",
        "df = pd.DataFrame({'Actual': y_test, 'Predicted': y_pred})\n",
        "df\n",
        "\n",
        "from sklearn import metrics\n",
        "print('Mean Absolute Error:', metrics.mean_absolute_error(y_test, y_pred))\n",
        "print('Mean Squared Error:', metrics.mean_squared_error(y_test, y_pred))\n",
        "print('Root Mean Squared Error:', np.sqrt(metrics.mean_squared_error(y_test, y_pred)))\n",
        "\n",
        "\n",
        "import numpy as np\n",
        "import matplotlib as mpl\n",
        "from mpl_toolkits.mplot3d import Axes3D\n",
        "import matplotlib.pyplot as plt\n",
        "\n",
        "def generate_dataset(n):\n",
        "    x = []\n",
        "    y = []\n",
        "    random_x1 = np.random.rand()\n",
        "    random_x2 = np.random.rand()\n",
        "\n",
        "    for i in range(n):\n",
        "        x1 = i / 2 + np.random.rand() * n\n",
        "        x.append([x1, x1])\n",
        "        y.append(random_x1 * x1 + random_x2 * x1**2 + 1)\n",
        "\n",
        "    return np.array(x), np.array(y)\n",
        "\n",
        "x, y = generate_dataset(200)\n",
        "\n",
        "mpl.rcParams['legend.fontsize'] = 12\n",
        "fig = plt.figure()\n",
        "ax = fig.add_subplot(111, projection='3d')\n",
        "\n",
        "ax.scatter(x[:, 1], x[:, 2], y, label='y', s=5)\n",
        "ax.legend()\n",
        "ax.view_init(45, 0)\n",
        "plt.show()\n"
      ]
    }
  ]
}