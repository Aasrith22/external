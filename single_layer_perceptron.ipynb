{
  "nbformat": 4,
  "nbformat_minor": 0,
  "metadata": {
    "colab": {
      "provenance": [],
      "authorship_tag": "ABX9TyPR7homvQNwYcPRgNoGH9bS",
      "include_colab_link": true
    },
    "kernelspec": {
      "name": "python3",
      "display_name": "Python 3"
    },
    "language_info": {
      "name": "python"
    }
  },
  "cells": [
    {
      "cell_type": "markdown",
      "metadata": {
        "id": "view-in-github",
        "colab_type": "text"
      },
      "source": [
        "<a href=\"https://colab.research.google.com/github/Aasrith22/external/blob/main/single_layer_perceptron.ipynb\" target=\"_parent\"><img src=\"https://colab.research.google.com/assets/colab-badge.svg\" alt=\"Open In Colab\"/></a>"
      ]
    },
    {
      "cell_type": "code",
      "execution_count": null,
      "metadata": {
        "colab": {
          "base_uri": "https://localhost:8080/"
        },
        "id": "7FTX4qxzsKk9",
        "outputId": "7435f0c5-7887-4ace-c116-21ad738e5348"
      },
      "outputs": [
        {
          "output_type": "stream",
          "name": "stdout",
          "text": [
            "Accuracy: 0.3333333333333333\n"
          ]
        }
      ],
      "source": [
        "import numpy as np\n",
        "from sklearn.datasets import load_iris\n",
        "from sklearn.model_selection import train_test_split\n",
        "from sklearn.linear_model import Perceptron\n",
        "from sklearn.metrics import accuracy_score\n",
        "d = load_iris()\n",
        "X = d.data\n",
        "y = d.target\n",
        "xt, xtt, yt, ytt = train_test_split(X, y, test_size=0.2, random_state=42)\n",
        "c = []\n",
        "for l in np.unique(y):\n",
        "\n",
        "    p = Perceptron(max_iter=100, random_state=42)\n",
        "    p.fit(xt, yt)\n",
        "    c.append(p)\n",
        "pred = np.array([clf.predict(xtt) for clf in c])\n",
        "fp = np.argmax(pred, axis=0)\n",
        "a = accuracy_score(ytt, fp)\n",
        "print(\"Accuracy:\", a)\n"
      ]
    }
  ]
}